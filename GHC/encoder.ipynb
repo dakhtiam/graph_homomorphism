{
 "cells": [
  {
   "cell_type": "markdown",
   "metadata": {},
   "source": [
    "# Graphs encoder with subgraph isomorphism numbers"
   ]
  },
  {
   "cell_type": "code",
   "execution_count": 4,
   "metadata": {},
   "outputs": [],
   "source": [
    "import torch\n",
    "\n",
    "import numpy as np\n",
    "import matplotlib.pyplot as plt\n",
    "import itertools\n",
    "\n",
    "import networkx as nx \n",
    "from networkx.algorithms.isomorphism import ISMAGS, GraphMatcher"
   ]
  },
  {
   "cell_type": "code",
   "execution_count": null,
   "metadata": {},
   "outputs": [],
   "source": []
  },
  {
   "cell_type": "markdown",
   "metadata": {},
   "source": [
    "Encoding a graph into a vector in R^|F_set| given by (subgraphIso(F,G)) for F in Fset. \n",
    "\n",
    "Note that the standard ISMAGS has the order (graph,subgraph) in the arguments.  "
   ]
  },
  {
   "cell_type": "code",
   "execution_count": 11,
   "metadata": {},
   "outputs": [],
   "source": [
    "class SubGraph:\n",
    "\n",
    "    def __init__(self, G, F_set):\n",
    "        self.graph = G\n",
    "        self.test_graphs = F_set\n",
    "\n",
    "    def counts(self,symmetry = True):\n",
    "        pass\n",
    "\n",
    "    def shom(self,F):\n",
    "        # get iterator over subgraph homomorphisms F->G.  \n",
    "        pass\n"
   ]
  },
  {
   "cell_type": "code",
   "execution_count": null,
   "metadata": {},
   "outputs": [],
   "source": []
  },
  {
   "cell_type": "code",
   "execution_count": 15,
   "metadata": {},
   "outputs": [],
   "source": [
    "def Simple_Encoder(G, F_set ,symmetry = True):\n",
    "    '''\n",
    "    This function returns the subgraph isomorphism vector in R^|F_set| given by (subgraphIso(F,G)) \n",
    "    \n",
    "    Inputs:\n",
    "        G: Graph\n",
    "        F_set: The set of test subgraphs\n",
    "        symmetry (default = True) : counting embeddings F->G up to automorphisms of F or not. \n",
    "    Output:\n",
    "        Enc(G): (|F_set|, ) vector of subgraph isomorphism counting\n",
    "    '''\n",
    "    Isom_G = [ISMAGS(G,F) for F in F_set]\n",
    "    numIso_G = map(lambda x: len(list(x.find_isomorphisms(symmetry))), Isom_G)\n",
    "\n",
    "    return torch.tensor(numIso_G )"
   ]
  }
 ],
 "metadata": {
  "interpreter": {
   "hash": "aee8b7b246df8f9039afb4144a1f6fd8d2ca17a180786b69acc140d282b71a49"
  },
  "kernelspec": {
   "display_name": "Python 3.10.4 64-bit",
   "language": "python",
   "name": "python3"
  },
  "language_info": {
   "codemirror_mode": {
    "name": "ipython",
    "version": 3
   },
   "file_extension": ".py",
   "mimetype": "text/x-python",
   "name": "python",
   "nbconvert_exporter": "python",
   "pygments_lexer": "ipython3",
   "version": "3.10.4"
  },
  "orig_nbformat": 4
 },
 "nbformat": 4,
 "nbformat_minor": 2
}
