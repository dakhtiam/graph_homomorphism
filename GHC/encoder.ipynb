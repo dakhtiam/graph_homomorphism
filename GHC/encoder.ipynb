{
 "cells": [
  {
   "cell_type": "markdown",
   "metadata": {},
   "source": [
    "# Graphs encoder with subgraph isomorphism numbers"
   ]
  },
  {
   "cell_type": "code",
   "execution_count": 1,
   "metadata": {},
   "outputs": [],
   "source": [
    "import torch\n",
    "\n",
    "import numpy as np\n",
    "import matplotlib.pyplot as plt\n",
    "import itertools\n",
    "from tqdm import tqdm\n",
    "\n",
    "import networkx as nx \n",
    "from networkx.algorithms.isomorphism import ISMAGS, GraphMatcher"
   ]
  },
  {
   "cell_type": "markdown",
   "metadata": {},
   "source": [
    "Encoding a graph into a vector in R^|F_set| given by (subgraphIso(F,G)) for F in Fset. \n",
    "\n",
    "Note that the standard ISMAGS has the order (graph,subgraph) in the arguments.  "
   ]
  },
  {
   "cell_type": "code",
   "execution_count": 2,
   "metadata": {},
   "outputs": [],
   "source": [
    "class SubGraph:\n",
    "\n",
    "    def __init__(self, G, F_set):\n",
    "        self.graph = G\n",
    "        self.test_graphs = F_set\n",
    "\n",
    "    def counts(self,symmetry = True):\n",
    "        pass\n",
    "\n",
    "    def shom(self,F):\n",
    "        # get iterator over subgraph homomorphisms F->G.  \n",
    "        pass\n"
   ]
  },
  {
   "cell_type": "code",
   "execution_count": 21,
   "metadata": {},
   "outputs": [],
   "source": [
    "def Simple_Encoder(G, F_set ,symmetry = True, line = True, format = 'Torch'):\n",
    "    '''\n",
    "    This function returns the subgraph isomorphism vector in R^|F_set| given by (subgraphIso(F,G)) \n",
    "    \n",
    "    Inputs:\n",
    "        G: Graph\n",
    "        F_set (N, ): The set of test subgraphs, with each subgraph specifing full or line\n",
    "        symmetry (default = True) : counting embeddings F->G up to automorphisms of F or not. \n",
    "        line (default = True) : whether to consider full subgraphs of line graph\n",
    "        format (default = Torch): desired output type\n",
    "    Output:\n",
    "        Enc(G): (N, ) vector of subgraph isomorphism counting\n",
    "    '''\n",
    "\n",
    "    Isom = lambda x,y: ISMAGS(nx.line_graph(x),nx.line_graph(y)) if line else ISMAGS(x,y)\n",
    "    Isom_G = (Isom(G,F) for F in F_set)\n",
    "    numIso_G = map(lambda x: len(list(x.find_isomorphisms(symmetry))), Isom_G)\n",
    "\n",
    "    # match format \n",
    "    if format == 'Torch':\n",
    "        return torch.tensor(list(numIso_G))\n",
    "    if format == 'numpy':\n",
    "        return np.array((list(numIso_G)))\n",
    "    pass \n",
    "\n",
    "    # only works on python 3.10:\n",
    "    # match format:\n",
    "    #  case ['Torch']: torch.tensor(list(numIso_G))\n",
    "    # case ['numpy']: np.array((list(numIso_G)))"
   ]
  },
  {
   "cell_type": "markdown",
   "metadata": {},
   "source": [
    "Test the encoder"
   ]
  },
  {
   "cell_type": "code",
   "execution_count": 1,
   "metadata": {},
   "outputs": [],
   "source": [
    "# tree_2_gen = [nx.balanced_tree(m,n) for n,m in itertools.product(range(3), range(6))]\n",
    "\n",
    "#K = [nx.complete_graph(n) for n in range(20)]\n",
    "#Simple_Encoder(nx.line_graph(K[2]),list(map(lambda x: nx.line_graph(x),tree_2_gen)))\n",
    "\n",
    "\n",
    "#line_ism = ISMAGS(nx.line_graph(K[14]),nx.line_graph(nx.balanced_tree(2,2)))\n",
    "\n",
    "#line_ism_iter_ = line_ism.find_isomorphisms()\n",
    "\n",
    "#firsttwo = itertools.islice(line_ism_iter_,2)\n",
    "\n",
    "#list(firsttwo)\n"
   ]
  }
 ],
 "metadata": {
  "interpreter": {
   "hash": "aee8b7b246df8f9039afb4144a1f6fd8d2ca17a180786b69acc140d282b71a49"
  },
  "kernelspec": {
   "display_name": "Python 3.10.4 64-bit",
   "language": "python",
   "name": "python3"
  },
  "language_info": {
   "codemirror_mode": {
    "name": "ipython",
    "version": 3
   },
   "file_extension": ".py",
   "mimetype": "text/x-python",
   "name": "python",
   "nbconvert_exporter": "python",
   "pygments_lexer": "ipython3",
   "version": "3.9.7"
  },
  "orig_nbformat": 4
 },
 "nbformat": 4,
 "nbformat_minor": 2
}
