{
 "cells": [
  {
   "cell_type": "markdown",
   "metadata": {},
   "source": [
    "# Graphs encoder with subgraph isomorphism numbers"
   ]
  },
  {
   "cell_type": "code",
   "execution_count": 1,
   "metadata": {},
   "outputs": [],
   "source": [
    "import torch\n",
    "\n",
    "import numpy as np\n",
    "import matplotlib.pyplot as plt\n",
    "import itertools\n",
    "from tqdm import tqdm\n",
    "\n",
    "import networkx as nx \n",
    "from networkx.algorithms.isomorphism import ISMAGS, GraphMatcher"
   ]
  },
  {
   "cell_type": "code",
   "execution_count": null,
   "metadata": {},
   "outputs": [],
   "source": []
  },
  {
   "cell_type": "markdown",
   "metadata": {},
   "source": []
  },
  {
   "cell_type": "markdown",
   "metadata": {},
   "source": [
    "Encoding a graph into a vector in R^|F_set| given by (subgraphIso(F,G)) for F in Fset. \n",
    "\n",
    "Note that the standard ISMAGS has the order (graph,subgraph) in the arguments.  "
   ]
  },
  {
   "cell_type": "code",
   "execution_count": 2,
   "metadata": {},
   "outputs": [],
   "source": [
    "class SubGraph:\n",
    "\n",
    "    def __init__(self, G, F_set):\n",
    "        self.graph = G\n",
    "        self.test_graphs = F_set\n",
    "\n",
    "    def counts(self,symmetry = True):\n",
    "        pass\n",
    "\n",
    "    def shom(self,F):\n",
    "        # get iterator over subgraph homomorphisms F->G.  \n",
    "        pass\n"
   ]
  },
  {
   "cell_type": "code",
   "execution_count": null,
   "metadata": {},
   "outputs": [],
   "source": []
  },
  {
   "cell_type": "code",
   "execution_count": 3,
   "metadata": {},
   "outputs": [],
   "source": [
    "def Simple_Encoder(G, F_set ,symmetry = True):\n",
    "    '''\n",
    "    This function returns the subgraph isomorphism vector in R^|F_set| given by (subgraphIso(F,G)) \n",
    "    \n",
    "    Inputs:\n",
    "        G: Graph\n",
    "        F_set: The set of test subgraphs\n",
    "        symmetry (default = True) : counting embeddings F->G up to automorphisms of F or not. \n",
    "    Output:\n",
    "        Enc(G): (|F_set|, ) vector of subgraph isomorphism counting\n",
    "    '''\n",
    "    Isom_G = (ISMAGS(G,F) for F in F_set)\n",
    "    numIso_G = map(lambda x: len(list(x.find_isomorphisms(symmetry))), Isom_G)\n",
    "\n",
    "    return torch.tensor(list(numIso_G))"
   ]
  },
  {
   "cell_type": "code",
   "execution_count": 28,
   "metadata": {},
   "outputs": [],
   "source": [
    "T = nx.balanced_tree(1,1)\n",
    "K = [nx.complete_graph(n) for n in range(15)]"
   ]
  },
  {
   "cell_type": "code",
   "execution_count": null,
   "metadata": {},
   "outputs": [],
   "source": [
    "ism = ISMAGS(K[5],T)\n",
    "\n",
    "list(ism.find_isomorphisms())\n",
    "\n"
   ]
  },
  {
   "cell_type": "code",
   "execution_count": 40,
   "metadata": {},
   "outputs": [
    {
     "data": {
      "text/plain": [
       "tensor([2, 2, 2, 2, 2, 2, 2, 1, 0, 0, 0, 0, 2, 0, 0, 0, 0, 0])"
      ]
     },
     "execution_count": 40,
     "metadata": {},
     "output_type": "execute_result"
    }
   ],
   "source": [
    "tree_2_gen = [nx.balanced_tree(m,n) for n,m in itertools.product(range(3), range(6))]\n",
    "\n",
    "Simple_Encoder(K[2],tree_2_gen)\n"
   ]
  }
 ],
 "metadata": {
  "interpreter": {
   "hash": "aee8b7b246df8f9039afb4144a1f6fd8d2ca17a180786b69acc140d282b71a49"
  },
  "kernelspec": {
   "display_name": "Python 3.10.4 64-bit",
   "language": "python",
   "name": "python3"
  },
  "language_info": {
   "codemirror_mode": {
    "name": "ipython",
    "version": 3
   },
   "file_extension": ".py",
   "mimetype": "text/x-python",
   "name": "python",
   "nbconvert_exporter": "python",
   "pygments_lexer": "ipython3",
   "version": "3.9.7"
  },
  "orig_nbformat": 4
 },
 "nbformat": 4,
 "nbformat_minor": 2
}
