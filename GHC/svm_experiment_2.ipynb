{
 "cells": [
  {
   "cell_type": "code",
   "execution_count": null,
   "metadata": {},
   "outputs": [],
   "source": [
    "# Install required packages.\n",
    "import os\n",
    "import torch\n",
    "os.environ['TORCH'] = torch.__version__\n",
    "print(torch.__version__)\n",
    "\n",
    "!pip install -q torch-scatter -f https://data.pyg.org/whl/torch-${TORCH}.html\n",
    "!pip install -q torch-sparse -f https://data.pyg.org/whl/torch-${TORCH}.html\n",
    "!pip install -q git+https://github.com/pyg-team/pytorch_geometric.git"
   ]
  },
  {
   "cell_type": "code",
   "execution_count": null,
   "metadata": {},
   "outputs": [],
   "source": [
    "import torch\n",
    "from torch_geometric.data import Data\n",
    "from torch_geometric.datasets import TUDataset\n",
    "import torch_geometric.utils as uts\n",
    "\n",
    "import numpy as np\n",
    "import matplotlib.pyplot as plt\n",
    "import itertools\n",
    "from tqdm import tqdm\n",
    "\n",
    "import networkx as nx \n",
    "from networkx.algorithms.isomorphism import ISMAGS, GraphMatcher"
   ]
  },
  {
   "cell_type": "markdown",
   "metadata": {},
   "source": [
    "Copy the simple encoder "
   ]
  },
  {
   "cell_type": "code",
   "execution_count": null,
   "metadata": {},
   "outputs": [],
   "source": [
    "def Simple_Encoder(G, F_set ,symmetry = True, line = True, format = 'Torch'):\n",
    "    '''\n",
    "    This function returns the subgraph isomorphism vector in R^|F_set| given by (subgraphIso(F,G)) \n",
    "    \n",
    "    Inputs:\n",
    "        G: Graph\n",
    "        F_set (N, ): The set of test subgraphs, with each subgraph specifing full or line\n",
    "        symmetry (default = True) : counting embeddings F->G up to automorphisms of F or not. \n",
    "        line (default = True) : whether to consider full subgraphs of line graph\n",
    "        format (default = Torch): desired output type\n",
    "    Output:\n",
    "        Enc(G): (N, ) vector of subgraph isomorphism counting\n",
    "    '''\n",
    "\n",
    "    Isom = lambda x,y: ISMAGS(nx.line_graph(x),nx.line_graph(y)) if line else ISMAGS(x,y)\n",
    "    Isom_G = (Isom(G,F) for F in F_set)\n",
    "    numIso_G = map(lambda x: len(list(x.find_isomorphisms(symmetry))), Isom_G)\n",
    "\n",
    "    # match format \n",
    "    if format == 'Torch':\n",
    "        return torch.tensor(list(numIso_G))\n",
    "    if format == 'numpy':\n",
    "        return np.array((list(numIso_G)))\n",
    "    pass "
   ]
  },
  {
   "cell_type": "markdown",
   "metadata": {},
   "source": [
    "Define the graph datasets"
   ]
  },
  {
   "cell_type": "code",
   "execution_count": null,
   "metadata": {},
   "outputs": [],
   "source": [
    "cycles = (nx.cycle_graph(n) for n in range(4,10))\n",
    "trees = itertools.chain.from_iterable([nx.nonisomorphic_trees(n) for n in range(2,10)])\n",
    "cliques = (nx.complete_graph(n) for n in range(3,8))\n",
    "\n",
    "F_iter = itertools.chain(trees,cycles,cliques)\n",
    "\n",
    "F_list = list(F_iter)"
   ]
  },
  {
   "cell_type": "markdown",
   "metadata": {},
   "source": [
    "## Start SVM experiment"
   ]
  },
  {
   "cell_type": "markdown",
   "metadata": {},
   "source": [
    "set up environment "
   ]
  },
  {
   "cell_type": "code",
   "execution_count": null,
   "metadata": {},
   "outputs": [],
   "source": [
    "from sklearn.pipeline import make_pipeline\n",
    "from sklearn.preprocessing import StandardScaler\n",
    "from sklearn.svm import SVC\n",
    "\n",
    "from yellowbrick.model_selection import CVScores\n",
    "from sklearn.model_selection import StratifiedKFold"
   ]
  },
  {
   "cell_type": "markdown",
   "metadata": {},
   "source": [
    "## First experiment: MUTAG:"
   ]
  },
  {
   "cell_type": "markdown",
   "metadata": {},
   "source": [
    "Load the data"
   ]
  },
  {
   "cell_type": "code",
   "execution_count": null,
   "metadata": {},
   "outputs": [],
   "source": [
    "dataset = TUDataset(root='data/TUDataset', name='MUTAG')\n",
    "\n",
    "print()\n",
    "print(f'Dataset: {dataset}:')\n",
    "print('====================')\n",
    "print(f'Number of graphs: {len(dataset)}')\n",
    "print(f'Number of features: {dataset.num_features}')\n",
    "print(f'Number of classes: {dataset.num_classes}')\n",
    "\n",
    "data = dataset[0]  # Get the first graph object.\n",
    "\n",
    "print()\n",
    "print(data)\n",
    "print('=============================================================')"
   ]
  },
  {
   "cell_type": "markdown",
   "metadata": {},
   "source": [
    "Inspect:"
   ]
  },
  {
   "cell_type": "code",
   "execution_count": null,
   "metadata": {},
   "outputs": [],
   "source": [
    "to_kx = lambda x: uts.to_networkx(x,to_undirected = True)\n",
    "\n",
    "G = to_kx(dataset[0])\n",
    "nx.draw(G)"
   ]
  },
  {
   "cell_type": "markdown",
   "metadata": {},
   "source": [
    "Process the data"
   ]
  },
  {
   "cell_type": "code",
   "execution_count": null,
   "metadata": {},
   "outputs": [],
   "source": [
    "# For MUTAG\n",
    "\n",
    "# lables\n",
    "y = np.array([x for x in itertools.chain.from_iterable((data.y.detach().numpy() for data in dataset))])\n",
    "\n",
    "# vectors:\n",
    "encode = lambda x: Simple_Encoder(to_kx(x),F_list, line = False, format ='numpy')\n",
    "#X = [encode(data) for data in tqdm(dataset)]\n",
    "#%timeit X = encode(dataset[0])"
   ]
  },
  {
   "cell_type": "code",
   "execution_count": null,
   "metadata": {},
   "outputs": [],
   "source": [
    "# Run classifier - MUTAG\n",
    "\n",
    "clf = SVC(kernel='rbf')\n",
    "\n",
    "\n",
    "cv = StratifiedKFold(n_splits=5, shuffle=True)\n",
    "visualizer = CVScores(clf, cv=cv, scoring='f1_weighted', random_state=42)\n",
    "visualizer.fit(X, y)        \n",
    "visualizer.show()   "
   ]
  },
  {
   "cell_type": "markdown",
   "metadata": {},
   "source": [
    "## Experiment: IMDB "
   ]
  },
  {
   "cell_type": "code",
   "execution_count": null,
   "metadata": {},
   "outputs": [],
   "source": [
    "Load the data"
   ]
  },
  {
   "cell_type": "code",
   "execution_count": null,
   "metadata": {},
   "outputs": [],
   "source": [
    "dataset = TUDataset(root='data/IMDB-BINARY', name='IMDB-BINARY')\n",
    "\n",
    "print()\n",
    "print(f'Dataset: {dataset}:')\n",
    "print('====================')\n",
    "print(f'Number of graphs: {len(dataset)}')\n",
    "print(f'Number of features: {dataset.num_features}')\n",
    "print(f'Number of classes: {dataset.num_classes}')\n",
    "\n",
    "data = dataset[0]  # Get the first graph object.\n",
    "\n",
    "print()\n",
    "print(data)\n",
    "print('=============================================================')"
   ]
  },
  {
   "cell_type": "markdown",
   "metadata": {},
   "source": [
    "Inspect:"
   ]
  },
  {
   "cell_type": "code",
   "execution_count": null,
   "metadata": {},
   "outputs": [],
   "source": [
    "to_kx = lambda x: uts.to_networkx(x,to_undirected = True)\n",
    "\n",
    "G = to_kx(dataset[2])\n",
    "nx.draw(G)"
   ]
  },
  {
   "cell_type": "code",
   "execution_count": null,
   "metadata": {},
   "outputs": [],
   "source": [
    "# For IMDB-BIN\n",
    "\n",
    "# lables\n",
    "y = np.array([x for x in itertools.chain.from_iterable((data.y.detach().numpy() for data in dataset))])\n",
    "\n",
    "# vectors:\n",
    "encode = lambda x: Simple_Encoder(to_kx(x),F_list, line = False, format ='numpy')\n",
    "X = [encode(data) for data in tqdm(dataset)]\n",
    "#%timeit X = encode(dataset[0])\n",
    "#encode(dataset[6])"
   ]
  },
  {
   "cell_type": "code",
   "execution_count": null,
   "metadata": {},
   "outputs": [],
   "source": [
    "# Run classifier - IMDB-BIN\n",
    "\n",
    "clf = SVC(kernel='rbf')\n",
    "\n",
    "\n",
    "cv = StratifiedKFold(n_splits=5, shuffle=True)\n",
    "visualizer = CVScores(clf, cv=cv, scoring='f1_weighted', random_state=42)\n",
    "visualizer.fit(X, y)        \n",
    "visualizer.show()   "
   ]
  }
 ],
 "metadata": {
  "interpreter": {
   "hash": "f998bb879779c2b1d165c3707981fb2189e1e471a479e2fe47903e66629b02b3"
  },
  "kernelspec": {
   "display_name": "Python 3.9.7 ('base')",
   "language": "python",
   "name": "python3"
  },
  "language_info": {
   "name": "python",
   "version": "3.9.7"
  },
  "orig_nbformat": 4
 },
 "nbformat": 4,
 "nbformat_minor": 2
}
