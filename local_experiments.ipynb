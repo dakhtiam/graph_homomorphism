{
 "cells": [
  {
   "cell_type": "code",
   "execution_count": 24,
   "metadata": {},
   "outputs": [],
   "source": [
    "# imports\n",
    "\n",
    "import torch\n",
    "from torch_geometric.data import Data\n",
    "from torch_geometric.transforms import BaseTransform\n",
    "from torch_geometric.datasets import TUDataset, ZINC\n",
    "from ogb.graphproppred import PygGraphPropPredDataset\n",
    "\n",
    "import numpy as np\n",
    "import matplotlib.pyplot as plt\n",
    "import itertools"
   ]
  },
  {
   "cell_type": "code",
   "execution_count": 25,
   "metadata": {},
   "outputs": [],
   "source": [
    "from sklearn.pipeline import make_pipeline\n",
    "from sklearn.preprocessing import StandardScaler\n",
    "from sklearn.svm import SVC\n",
    "from sklearn.ensemble import RandomForestClassifier\n",
    "\n",
    "from sklearn.model_selection import cross_val_score, StratifiedKFold"
   ]
  },
  {
   "cell_type": "code",
   "execution_count": 26,
   "metadata": {},
   "outputs": [],
   "source": [
    "from tqdm import tqdm"
   ]
  },
  {
   "cell_type": "code",
   "execution_count": 27,
   "metadata": {},
   "outputs": [],
   "source": [
    "import graph_encoding.encoding as encoding\n",
    "import networkx as nx\n",
    "import torch_geometric.utils as uts"
   ]
  },
  {
   "cell_type": "markdown",
   "metadata": {},
   "source": [
    "## Experiment: ogbg-molhiv"
   ]
  },
  {
   "cell_type": "markdown",
   "metadata": {},
   "source": [
    "Load the dataset"
   ]
  },
  {
   "cell_type": "code",
   "execution_count": 28,
   "metadata": {},
   "outputs": [],
   "source": [
    "from ogb.graphproppred.mol_encoder import AtomEncoder, BondEncoder\n",
    "emb_dim = 10\n",
    "atom_encoder = AtomEncoder(emb_dim)\n",
    "bond_encoder = BondEncoder(emb_dim)\n",
    "\n",
    "class atom_transform(BaseTransform):\n",
    "  def __call__(self, data):\n",
    "    newdata = data.clone()\n",
    "    newdata.x = atom_encoder(data.x)\n",
    "    return newdata\n",
    "\n",
    "transform = atom_transform()"
   ]
  },
  {
   "cell_type": "code",
   "execution_count": 29,
   "metadata": {},
   "outputs": [
    {
     "name": "stdout",
     "output_type": "stream",
     "text": [
      "\n",
      "Dataset: PygGraphPropPredDataset(41127):\n",
      "====================\n",
      "Number of graphs: 41127\n",
      "Number of features: 10\n",
      "Number of classes: 2\n",
      "\n",
      "Data(edge_index=[2, 40], edge_attr=[40, 3], x=[19, 10], y=[1, 1], num_nodes=19)\n",
      "=============================================================\n"
     ]
    }
   ],
   "source": [
    "dataset = PygGraphPropPredDataset(name = \"ogbg-molhiv\", root = 'dataset/', transform = transform)\n",
    "\n",
    "print()\n",
    "print(f'Dataset: {dataset}:')\n",
    "print('====================')\n",
    "print(f'Number of graphs: {len(dataset)}')\n",
    "print(f'Number of features: {dataset.num_features}')\n",
    "print(f'Number of classes: {dataset.num_classes}')\n",
    "\n",
    "data = dataset[0]  # Get the first graph object.\n",
    "\n",
    "print()\n",
    "print(data)\n",
    "print('=============================================================')"
   ]
  },
  {
   "cell_type": "markdown",
   "metadata": {},
   "source": [
    "### evaluation:"
   ]
  },
  {
   "cell_type": "code",
   "execution_count": 30,
   "metadata": {},
   "outputs": [
    {
     "name": "stdout",
     "output_type": "stream",
     "text": [
      "==== Expected input format of Evaluator for ogbg-molhiv\n",
      "{'y_true': y_true, 'y_pred': y_pred}\n",
      "- y_true: numpy ndarray or torch tensor of shape (num_graph, num_task)\n",
      "- y_pred: numpy ndarray or torch tensor of shape (num_graph, num_task)\n",
      "where y_pred stores score values (for computing AUC score),\n",
      "num_task is 1, and each row corresponds to one graph.\n",
      "nan values in y_true are ignored during evaluation.\n",
      "\n",
      "==== Expected output format of Evaluator for ogbg-molhiv\n",
      "{'rocauc': rocauc}\n",
      "- rocauc (float): ROC-AUC score averaged across 1 task(s)\n",
      "\n"
     ]
    }
   ],
   "source": [
    "from ogb.graphproppred import Evaluator\n",
    "\n",
    "evaluator = Evaluator(name = 'ogbg-molhiv')\n",
    "print(evaluator.expected_input_format) \n",
    "print(evaluator.expected_output_format)  "
   ]
  },
  {
   "cell_type": "code",
   "execution_count": 31,
   "metadata": {},
   "outputs": [],
   "source": [
    "# Using the given train-test split\n",
    "\n",
    "split_idx = dataset.get_idx_split()\n",
    "\n",
    "train_idx = split_idx[\"train\"]\n",
    "valid_idx = split_idx[\"valid\"]\n",
    "test_idx  = split_idx[\"test\"]"
   ]
  },
  {
   "cell_type": "code",
   "execution_count": 10,
   "metadata": {},
   "outputs": [],
   "source": [
    "# load different data\n",
    "\n",
    "X = np.load('Experiments/ogbg-molhiv/experiment_1_X.npy')\n",
    "y = np.load('Experiments/ogbg-molhiv/experiment_1_y.npy')"
   ]
  },
  {
   "cell_type": "code",
   "execution_count": 11,
   "metadata": {},
   "outputs": [
    {
     "data": {
      "text/plain": [
       "((41127, 20), (41127,))"
      ]
     },
     "execution_count": 11,
     "metadata": {},
     "output_type": "execute_result"
    }
   ],
   "source": [
    "X.shape, y.shape"
   ]
  },
  {
   "cell_type": "code",
   "execution_count": 12,
   "metadata": {},
   "outputs": [],
   "source": [
    "X_train , y_train = X[train_idx], y[train_idx]\n",
    "X_valid , y_valid = X[valid_idx], y[valid_idx]\n",
    "X_test , y_test = X[test_idx], y[test_idx]"
   ]
  },
  {
   "cell_type": "code",
   "execution_count": null,
   "metadata": {},
   "outputs": [],
   "source": [
    "# set up experiment\n",
    "C_array = [10**3, 10**2, 10** 1, 10**0, 10**-1, 10**-2, 10**-3]\n",
    "\n",
    "max_score = 0\n",
    "C_max = 0\n",
    "for C in C_array:\n",
    "    clf = make_pipeline(StandardScaler(), SVC(kernel='rbf', C = 1, probability = True, random_state=42))\n",
    "    # fit model\n",
    "    clf.fit(X_train, y_train)\n",
    "    # Calculate predictions \n",
    "    y_valid_pred = clf.predict_proba(X_valid)\n",
    "\n",
    "    y_pred_valid = y_valid_pred[:,1].reshape(4113,1)\n",
    "    y_true_valid = y_valid.reshape(4113,1)\n",
    "\n",
    "    input_valid_dict = {'y_true': y_true_valid, 'y_pred': y_pred_valid}\n",
    "    valid_score = evaluator.eval(input_valid_dict)['rocauc']\n",
    "\n",
    "    if valid_score > max_score:\n",
    "        max_score = valid_score\n",
    "        C_max = C\n",
    "        \n",
    "max_score, C_max"
   ]
  },
  {
   "cell_type": "code",
   "execution_count": 13,
   "metadata": {},
   "outputs": [
    {
     "data": {
      "text/plain": [
       "0.6335618687112535"
      ]
     },
     "execution_count": 13,
     "metadata": {},
     "output_type": "execute_result"
    }
   ],
   "source": [
    "# calculate test score\n",
    "# Calculate predictions \n",
    "clf = make_pipeline(StandardScaler(), SVC(kernel='rbf', C = 100, probability = True, random_state=42))\n",
    "# fit model\n",
    "clf.fit(X_train, y_train)\n",
    "\n",
    "y_test_pred = clf.predict_proba(X_test)\n",
    "\n",
    "y_pred_test = y_test_pred[:,1].reshape(4113,1)\n",
    "y_true_test = y_test.reshape(4113,1)\n",
    "\n",
    "input_test_dict = {'y_true': y_true_test, 'y_pred': y_pred_test}\n",
    "test_score = evaluator.eval(input_test_dict)['rocauc']\n",
    "\n",
    "test_score\n"
   ]
  },
  {
   "cell_type": "code",
   "execution_count": 14,
   "metadata": {},
   "outputs": [
    {
     "data": {
      "text/plain": [
       "0.8696038451507128"
      ]
     },
     "execution_count": 14,
     "metadata": {},
     "output_type": "execute_result"
    }
   ],
   "source": [
    "# calculate train auroc\n",
    "\n",
    "y_train_pred = clf.predict_proba(X_train)\n",
    "\n",
    "y_pred_train = y_train_pred[:,1].reshape(32901,1)\n",
    "y_true_train = y_train.reshape(32901,1)\n",
    "\n",
    "input_train_dict = {'y_true': y_true_train, 'y_pred': y_pred_train}\n",
    "test_score = evaluator.eval(input_train_dict)['rocauc']\n",
    "\n",
    "test_score"
   ]
  },
  {
   "cell_type": "code",
   "execution_count": 36,
   "metadata": {},
   "outputs": [],
   "source": [
    "#X_0 = np.load('Experiments/PROTEINS/experiment_0_X.npy')\n",
    "#y_0 = np.load('Experiments/PROTEINS/experiment_0_y.npy')\n",
    "#nums_0 = np.load('Experiments/PROTEINS/experiment_0_nums.npy')\n",
    "\n",
    "#nums_0"
   ]
  },
  {
   "cell_type": "code",
   "execution_count": 13,
   "metadata": {},
   "outputs": [],
   "source": [
    "import graph_encoding.encoding as encoding"
   ]
  },
  {
   "cell_type": "code",
   "execution_count": 9,
   "metadata": {},
   "outputs": [],
   "source": [
    "svm_data = [np.load(f'Experiments/ogbg-molhiv/SVM_data_{i}.npy') for i in range(12)]"
   ]
  },
  {
   "cell_type": "code",
   "execution_count": 13,
   "metadata": {},
   "outputs": [
    {
     "data": {
      "text/plain": [
       "[array([8.33128491e-01, 5.96948570e-01, 6.07090804e-01, 1.00000000e+03]),\n",
       " array([9.19120766e-01, 5.89663763e-01, 6.03737997e-01, 1.00000000e+03]),\n",
       " array([9.52165367e-01, 6.32547944e-01, 5.99668700e-01, 1.00000000e+03]),\n",
       " array([9.74501161e-01, 6.28011356e-01, 6.29736797e-01, 1.00000000e+03]),\n",
       " array([7.61285118e-01, 6.33851561e-01, 6.27066799e-01, 1.00000000e+03]),\n",
       " array([8.85788440e-01, 6.43295545e-01, 6.29249951e-01, 1.00000000e+03]),\n",
       " array([9.37832118e-01, 6.36951274e-01, 6.05789487e-01, 1.00000000e+03]),\n",
       " array([9.69677268e-01, 6.17470403e-01, 6.38392857e-01, 1.00000000e+03]),\n",
       " array([7.45167444e-01, 6.16630294e-01, 6.04240153e-01, 1.00000000e+03]),\n",
       " array([8.70003641e-01, 6.39498638e-01, 6.16827724e-01, 1.00000000e+03]),\n",
       " array([9.25101601e-01, 6.45779177e-01, 6.08529909e-01, 1.00000000e+03]),\n",
       " array([9.64920425e-01, 6.09311690e-01, 6.41053669e-01, 1.00000000e+03])]"
      ]
     },
     "execution_count": 13,
     "metadata": {},
     "output_type": "execute_result"
    }
   ],
   "source": [
    "svm_data"
   ]
  },
  {
   "cell_type": "code",
   "execution_count": 135,
   "metadata": {},
   "outputs": [],
   "source": [
    "random_forest_data = [np.load(f'Experiments/ogbg-molhiv/random_forest_scores_{i}.npy') for i in range(12)]"
   ]
  },
  {
   "cell_type": "code",
   "execution_count": 212,
   "metadata": {},
   "outputs": [
    {
     "data": {
      "text/plain": [
       "tensor([6, 4, 1])"
      ]
     },
     "execution_count": 212,
     "metadata": {},
     "output_type": "execute_result"
    }
   ],
   "source": [
    "r = torch.tensor([[1,2,3], [3,0,1], [1,0,0]])\n",
    "torch.sum(r, dim =1)"
   ]
  },
  {
   "cell_type": "code",
   "execution_count": 214,
   "metadata": {},
   "outputs": [
    {
     "data": {
      "text/plain": [
       "22"
      ]
     },
     "execution_count": 214,
     "metadata": {},
     "output_type": "execute_result"
    }
   ],
   "source": [
    "x = torch.tensor([[1, 0], [1, 1], [1, 0], [1, 1], [1, 0]])\n",
    "sumx =  torch.tensor([[1], [2], [1], [2], [1]])\n",
    "\n",
    "6 + 2* 6+ 4\n",
    "\n"
   ]
  },
  {
   "cell_type": "markdown",
   "metadata": {},
   "source": [
    "# Some computations"
   ]
  },
  {
   "cell_type": "code",
   "execution_count": 200,
   "metadata": {},
   "outputs": [
    {
     "data": {
      "image/png": "[encoded data removed]",
      "text/plain": [
       "<Figure size 432x288 with 1 Axes>"
      ]
     },
     "metadata": {},
     "output_type": "display_data"
    }
   ],
   "source": [
    "nx.draw(nx.complete_graph(1))"
   ]
  },
  {
   "cell_type": "code",
   "execution_count": 201,
   "metadata": {},
   "outputs": [
    {
     "data": {
      "text/plain": [
       "Data(edge_index=[2, 12], num_nodes=4)"
      ]
     },
     "execution_count": 201,
     "metadata": {},
     "output_type": "execute_result"
    }
   ],
   "source": [
    "F = encoding.testGraph(nx.complete_graph(1), graph_name='c_3')\n",
    "G = uts.from_networkx(nx.complete_graph(4))\n",
    "\n",
    "G"
   ]
  },
  {
   "cell_type": "code",
   "execution_count": 202,
   "metadata": {},
   "outputs": [
    {
     "data": {
      "text/plain": [
       "{<graph_encoding.encoding.testGraph at 0x136dc9990>}"
      ]
     },
     "execution_count": 202,
     "metadata": {},
     "output_type": "execute_result"
    }
   ],
   "source": [
    "encoded_data = encoding.grandEmbedding(G)\n",
    "encoded_data.clear_all_testgraphs()\n",
    "encoded_data.add(F)\n",
    "encoded_data.testgraphs"
   ]
  },
  {
   "cell_type": "code",
   "execution_count": 203,
   "metadata": {},
   "outputs": [
    {
     "data": {
      "text/plain": [
       "tensor([], size=(0, 2), dtype=torch.int64)"
      ]
     },
     "execution_count": 203,
     "metadata": {},
     "output_type": "execute_result"
    }
   ],
   "source": [
    "dict_list = list(encoded_data.subIso(F))\n",
    "converts = lambda x: dict_list[x]\n",
    "maps = [(lambda x: dict[x]) for dict in dict_list]\n",
    "\n",
    "test_edge_list = F.pyg_graph().edge_index.t()\n",
    "test_edge_list\n"
   ]
  },
  {
   "cell_type": "code",
   "execution_count": 182,
   "metadata": {},
   "outputs": [
    {
     "data": {
      "text/plain": [
       "torch.Size([24, 6, 2])"
      ]
     },
     "execution_count": 182,
     "metadata": {},
     "output_type": "execute_result"
    }
   ],
   "source": [
    "test_edge_tensor = torch.stack([test_edge_list.clone().apply_(lambda x: dict[x]) for dict in dict_list])\n",
    "test_edge_tensor.size()"
   ]
  },
  {
   "cell_type": "code",
   "execution_count": 196,
   "metadata": {},
   "outputs": [
    {
     "data": {
      "text/plain": [
       "tensor([[[1, 0, 0],\n",
       "         [1, 1, 1]],\n",
       "\n",
       "        [[1, 0, 0],\n",
       "         [1, 1, 0]],\n",
       "\n",
       "        [[1, 1, 1],\n",
       "         [1, 0, 0]],\n",
       "\n",
       "        [[1, 1, 1],\n",
       "         [1, 1, 0]],\n",
       "\n",
       "        [[1, 1, 0],\n",
       "         [1, 0, 0]],\n",
       "\n",
       "        [[1, 1, 0],\n",
       "         [1, 1, 1]]])"
      ]
     },
     "execution_count": 196,
     "metadata": {},
     "output_type": "execute_result"
    }
   ],
   "source": [
    "x_ten = torch.tensor([[1,0,0], [1,1,1], [1,1,0], [1,1,1]] )\n",
    "\n",
    "x_all = x_ten[test_edge_tensor]\n",
    "\n",
    "x_all[0]"
   ]
  },
  {
   "cell_type": "code",
   "execution_count": 198,
   "metadata": {},
   "outputs": [
    {
     "data": {
      "text/plain": [
       "torch.Size([24, 3])"
      ]
     },
     "execution_count": 198,
     "metadata": {},
     "output_type": "execute_result"
    }
   ],
   "source": [
    "result = torch.prod(x_all, dim=-2)\n",
    "#result.size()\n",
    "\n",
    "suming = torch.sum(result, dim = -2)\n",
    "suming.size()"
   ]
  },
  {
   "cell_type": "code",
   "execution_count": 199,
   "metadata": {},
   "outputs": [
    {
     "data": {
      "text/plain": [
       "0"
      ]
     },
     "execution_count": 199,
     "metadata": {},
     "output_type": "execute_result"
    }
   ],
   "source": [
    "d = dict()\n",
    "len(d)"
   ]
  },
  {
   "cell_type": "code",
   "execution_count": 209,
   "metadata": {},
   "outputs": [
    {
     "data": {
      "image/png": "[encoded data removed]",
      "text/plain": [
       "<Figure size 432x288 with 1 Axes>"
      ]
     },
     "metadata": {},
     "output_type": "display_data"
    }
   ],
   "source": [
    "encoded_data.clear_all_testgraphs()\n",
    "encoded_data.add_trees(stop = 3)\n",
    "tree = list(encoded_data.testgraphs)[0]\n",
    "\n",
    "tree.draw()"
   ]
  }
 ],
 "metadata": {
  "interpreter": {
   "hash": "aee8b7b246df8f9039afb4144a1f6fd8d2ca17a180786b69acc140d282b71a49"
  },
  "kernelspec": {
   "display_name": "Python 3.10.4 64-bit",
   "language": "python",
   "name": "python3"
  },
  "language_info": {
   "codemirror_mode": {
    "name": "ipython",
    "version": 3
   },
   "file_extension": ".py",
   "mimetype": "text/x-python",
   "name": "python",
   "nbconvert_exporter": "python",
   "pygments_lexer": "ipython3",
   "version": "3.10.4"
  },
  "orig_nbformat": 4
 },
 "nbformat": 4,
 "nbformat_minor": 2
}
