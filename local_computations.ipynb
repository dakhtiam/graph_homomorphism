{
 "cells": [
  {
   "cell_type": "code",
   "execution_count": 2,
   "metadata": {},
   "outputs": [],
   "source": [
    "# imports\n",
    "\n",
    "import torch\n",
    "from torch_geometric.data import Data\n",
    "from torch_geometric.transforms import BaseTransform\n",
    "from torch_geometric.datasets import TUDataset, ZINC\n",
    "from ogb.graphproppred import PygGraphPropPredDataset\n",
    "\n",
    "import numpy as np\n",
    "import matplotlib.pyplot as plt\n",
    "import itertools"
   ]
  },
  {
   "cell_type": "code",
   "execution_count": 3,
   "metadata": {},
   "outputs": [],
   "source": [
    "from sklearn.pipeline import make_pipeline\n",
    "from sklearn.preprocessing import StandardScaler\n",
    "from sklearn.svm import SVC\n",
    "from sklearn.ensemble import RandomForestClassifier\n",
    "\n",
    "from sklearn.model_selection import cross_val_score, StratifiedKFold"
   ]
  },
  {
   "cell_type": "code",
   "execution_count": 42,
   "metadata": {},
   "outputs": [],
   "source": [
    "import experiments"
   ]
  },
  {
   "cell_type": "code",
   "execution_count": 235,
   "metadata": {},
   "outputs": [],
   "source": [
    "from importlib import reload \n",
    "\n",
    "experiments = reload(experiments)"
   ]
  },
  {
   "cell_type": "markdown",
   "metadata": {},
   "source": [
    "## load experiment data"
   ]
  },
  {
   "cell_type": "markdown",
   "metadata": {},
   "source": [
    "### MUTAG"
   ]
  },
  {
   "cell_type": "code",
   "execution_count": 232,
   "metadata": {},
   "outputs": [],
   "source": [
    "def make_tree_plot(experiment):\n",
    "  scores_dict = experiment.load_score_data('Random_forest')\n",
    "  scores = np.array([scores_dict[i].mean() for i in range(40)]).reshape((8,5))\n",
    "  n_trees = range(2,7)\n",
    "  fig = plt.figure()\n",
    "\n",
    "  ax = fig.add_subplot()\n",
    "  [ax.plot(n_trees, scores[i]) for i in range(8)]\n",
    "  ax.set_title('Pattern graphs for ' + experiment.dataset_name)\n",
    "  ax.set_xlabel('Max tree size')\n",
    "  ax.set_ylabel('test accuracy')\n",
    "  plt.show()\n",
    "\n",
    "\n",
    "def make_cycle_plot(experiment):\n",
    "  scores_dict = experiment.load_score_data('Random_forest')\n",
    "  scores = np.array([scores_dict[i].mean() for i in range(40)]).reshape(8,5).transpose().reshape(10,4)\n",
    "  n_cycles = range(3,7)\n",
    "  fig = plt.figure()\n",
    "\n",
    "  ax = fig.add_subplot()\n",
    "  [ax.plot(n_cycles, scores[i]) for i in range(8)]\n",
    "  ax.set_title('Pattern graphs for ' + experiment.dataset_name)\n",
    "  ax.set_xlabel('Max cycle size')\n",
    "  ax.set_ylabel('test accuracy')\n",
    "  plt.show()\n",
    "\n",
    "def make_clique_plot(experiment):\n",
    "  scores_dict = experiment.load_score_data('Random_forest')\n",
    "  scores = np.array([scores_dict[i].mean() for i in range(40)]).reshape(2,20).transpose()\n",
    "  n_cliques = range(4,6)\n",
    "  fig = plt.figure()\n",
    "\n",
    "  ax = fig.add_subplot()\n",
    "  [ax.plot(n_cliques, scores[i]) for i in range(8)]\n",
    "  ax.set_title('Pattern graphs for ' + experiment.dataset_name)\n",
    "  ax.set_xlabel('Max clique size')\n",
    "  ax.set_ylabel('test accuracy')\n",
    "  plt.show()\n",
    "\n",
    "def make_big_plot(experiment):\n",
    "  scores_dict = experiment.load_score_data('Random_forest')\n",
    "  fig, (ax_trees, ax_cycles, ax_cliques) = plt.subplots(3, gridspec_kw={'hspace': 1.2})\n",
    "\n",
    "  tree_scores = np.array([scores_dict[i].mean() for i in range(40)]).reshape((8,5))\n",
    "  cycle_scores = np.array([scores_dict[i].mean() for i in range(40)]).reshape(8,5).transpose().reshape(10,4)\n",
    "  clique_scores = np.array([scores_dict[i].mean() for i in range(40)]).reshape(2,20).transpose()\n",
    "  \n",
    "  n_trees = range(2,7)\n",
    "  n_cycles = range(3,7)\n",
    "  n_cliques = range(4,6)\n",
    "\n",
    "  [ax_trees.plot(n_trees, tree_scores[i]) for i in range(8)]\n",
    "  ax_trees.set_title('Pattern graphs for ' + experiment.dataset_name)\n",
    "  ax_trees.set_xlabel('Max tree size')\n",
    "  ax_trees.set_ylabel('test accuracy')\n",
    "\n",
    "  [ax_cycles.plot(n_cycles, cycle_scores[i]) for i in range(10)]\n",
    "  ax_cycles.set_title('Pattern graphs for ' + experiment.dataset_name)\n",
    "  ax_cycles.set_xlabel('Max cycle size')\n",
    "  ax_cycles.set_ylabel('test accuracy')\n",
    "\n",
    "  [ax_cliques.plot(n_cliques, clique_scores[i]) for i in range(10)]\n",
    "  ax_cliques.set_title('Pattern graphs for ' + experiment.dataset_name)\n",
    "  ax_cliques.set_xlabel('Max clique size')\n",
    "  ax_cliques.set_ylabel('test accuracy')\n",
    "\n",
    "  fig.set_dpi(100)\n",
    "  plt.show()\n",
    "\n",
    "\n",
    "\n"
   ]
  },
  {
   "cell_type": "code",
   "execution_count": 247,
   "metadata": {},
   "outputs": [
    {
     "data": {
      "image/png": "[encoded data removed]",
      "text/plain": [
       "<Figure size 432x288 with 1 Axes>"
      ]
     },
     "metadata": {
      "needs_background": "light"
     },
     "output_type": "display_data"
    }
   ],
   "source": [
    "experiment = experiments.patternExperiment(\n",
    "    dataset = None, folder_name = 'pattern_graphs/MUTAG', \n",
    "    encoder_name = 'ghc_aug', n_trees=7, n_cycles=7, n_cliques=6,\n",
    "    loading_mode = True, dataset_name = 'MUTAG')\n",
    "#make_tree_plot(experiment)\n",
    "make_cycle_plot(experiment)\n",
    "#make_clique_plot(experiment)"
   ]
  },
  {
   "cell_type": "code",
   "execution_count": 138,
   "metadata": {},
   "outputs": [
    {
     "data": {
      "text/plain": [
       "{0: 3, 1: 3, 2: 3}"
      ]
     },
     "execution_count": 138,
     "metadata": {},
     "output_type": "execute_result"
    }
   ],
   "source": [
    "{i:3 for i in range(3)}"
   ]
  },
  {
   "cell_type": "markdown",
   "metadata": {},
   "source": [
    "### NCI1"
   ]
  },
  {
   "cell_type": "code",
   "execution_count": 170,
   "metadata": {},
   "outputs": [
    {
     "data": {
      "text/plain": [
       "[(0, {'n_trees': 2, 'n_cycles': 3, 'n_cliques': 4}),\n",
       " (1, {'n_trees': 3, 'n_cycles': 3, 'n_cliques': 4}),\n",
       " (2, {'n_trees': 4, 'n_cycles': 3, 'n_cliques': 4}),\n",
       " (3, {'n_trees': 5, 'n_cycles': 3, 'n_cliques': 4}),\n",
       " (4, {'n_trees': 6, 'n_cycles': 3, 'n_cliques': 4}),\n",
       " (5, {'n_trees': 2, 'n_cycles': 4, 'n_cliques': 4}),\n",
       " (6, {'n_trees': 3, 'n_cycles': 4, 'n_cliques': 4}),\n",
       " (7, {'n_trees': 4, 'n_cycles': 4, 'n_cliques': 4}),\n",
       " (8, {'n_trees': 5, 'n_cycles': 4, 'n_cliques': 4}),\n",
       " (9, {'n_trees': 6, 'n_cycles': 4, 'n_cliques': 4}),\n",
       " (10, {'n_trees': 2, 'n_cycles': 5, 'n_cliques': 4}),\n",
       " (11, {'n_trees': 3, 'n_cycles': 5, 'n_cliques': 4}),\n",
       " (12, {'n_trees': 4, 'n_cycles': 5, 'n_cliques': 4}),\n",
       " (13, {'n_trees': 5, 'n_cycles': 5, 'n_cliques': 4}),\n",
       " (14, {'n_trees': 6, 'n_cycles': 5, 'n_cliques': 4}),\n",
       " (15, {'n_trees': 2, 'n_cycles': 6, 'n_cliques': 4}),\n",
       " (16, {'n_trees': 3, 'n_cycles': 6, 'n_cliques': 4}),\n",
       " (17, {'n_trees': 4, 'n_cycles': 6, 'n_cliques': 4}),\n",
       " (18, {'n_trees': 5, 'n_cycles': 6, 'n_cliques': 4}),\n",
       " (19, {'n_trees': 6, 'n_cycles': 6, 'n_cliques': 4}),\n",
       " (20, {'n_trees': 2, 'n_cycles': 3, 'n_cliques': 5}),\n",
       " (21, {'n_trees': 3, 'n_cycles': 3, 'n_cliques': 5}),\n",
       " (22, {'n_trees': 4, 'n_cycles': 3, 'n_cliques': 5}),\n",
       " (23, {'n_trees': 5, 'n_cycles': 3, 'n_cliques': 5}),\n",
       " (24, {'n_trees': 6, 'n_cycles': 3, 'n_cliques': 5}),\n",
       " (25, {'n_trees': 2, 'n_cycles': 4, 'n_cliques': 5}),\n",
       " (26, {'n_trees': 3, 'n_cycles': 4, 'n_cliques': 5}),\n",
       " (27, {'n_trees': 4, 'n_cycles': 4, 'n_cliques': 5}),\n",
       " (28, {'n_trees': 5, 'n_cycles': 4, 'n_cliques': 5}),\n",
       " (29, {'n_trees': 6, 'n_cycles': 4, 'n_cliques': 5}),\n",
       " (30, {'n_trees': 2, 'n_cycles': 5, 'n_cliques': 5}),\n",
       " (31, {'n_trees': 3, 'n_cycles': 5, 'n_cliques': 5}),\n",
       " (32, {'n_trees': 4, 'n_cycles': 5, 'n_cliques': 5}),\n",
       " (33, {'n_trees': 5, 'n_cycles': 5, 'n_cliques': 5}),\n",
       " (34, {'n_trees': 6, 'n_cycles': 5, 'n_cliques': 5}),\n",
       " (35, {'n_trees': 2, 'n_cycles': 6, 'n_cliques': 5}),\n",
       " (36, {'n_trees': 3, 'n_cycles': 6, 'n_cliques': 5}),\n",
       " (37, {'n_trees': 4, 'n_cycles': 6, 'n_cliques': 5}),\n",
       " (38, {'n_trees': 5, 'n_cycles': 6, 'n_cliques': 5}),\n",
       " (39, {'n_trees': 6, 'n_cycles': 6, 'n_cliques': 5})]"
      ]
     },
     "execution_count": 170,
     "metadata": {},
     "output_type": "execute_result"
    }
   ],
   "source": [
    "experiment = experiments.patternExperiment(\n",
    "    dataset = None, folder_name = 'pattern_graphs/NCI1', \n",
    "    encoder_name = 'ghc_aug', n_trees=7, n_cycles=7, n_cliques=6,\n",
    "    loading_mode = True, dataset_name = 'NCI1')\n",
    "datadict = experiment.load_data(get_value=True)\n",
    "[(i, d.nums) for i,d in datadict.items()]"
   ]
  },
  {
   "cell_type": "code",
   "execution_count": 192,
   "metadata": {},
   "outputs": [
    {
     "data": {
      "text/plain": [
       "array([[ 0,  5, 10, 15],\n",
       "       [20, 25, 30, 35],\n",
       "       [ 1,  6, 11, 16],\n",
       "       [21, 26, 31, 36],\n",
       "       [ 2,  7, 12, 17],\n",
       "       [22, 27, 32, 37],\n",
       "       [ 3,  8, 13, 18],\n",
       "       [23, 28, 33, 38],\n",
       "       [ 4,  9, 14, 19],\n",
       "       [24, 29, 34, 39]])"
      ]
     },
     "execution_count": 192,
     "metadata": {},
     "output_type": "execute_result"
    }
   ],
   "source": [
    "np.arange(40).reshape(8,5).transpose().reshape(10,4)"
   ]
  },
  {
   "cell_type": "code",
   "execution_count": 239,
   "metadata": {},
   "outputs": [
    {
     "data": {
      "image/png": "[encoded data removed]",
      "text/plain": [
       "<Figure size 432x288 with 1 Axes>"
      ]
     },
     "metadata": {
      "needs_background": "light"
     },
     "output_type": "display_data"
    }
   ],
   "source": [
    "experiment = experiments.patternExperiment(\n",
    "    dataset = None, folder_name = 'pattern_graphs/NCI1', \n",
    "    encoder_name = 'ghc_aug', n_trees=7, n_cycles=7, n_cliques=6,\n",
    "    loading_mode = True, dataset_name = 'NCI1')\n",
    "#make_tree_plot(experiment)\n",
    "make_cycle_plot(experiment)\n",
    "#make_clique_plot(experiment)\n"
   ]
  },
  {
   "cell_type": "code",
   "execution_count": null,
   "metadata": {},
   "outputs": [],
   "source": [
    "experiment = experiments.patternExperiment(\n",
    "    dataset = None, folder_name = 'pattern_graphs/NCI1', \n",
    "    encoder_name = 'lagrangian_aug', n_trees=7, n_cycles=7, n_cliques=6,\n",
    "    loading_mode = True, dataset_name = 'NCI1')\n",
    "#make_tree_plot(experiment)\n",
    "make_cycle_plot(experiment)\n",
    "#make_clique_plot(experiment)"
   ]
  },
  {
   "cell_type": "code",
   "execution_count": 72,
   "metadata": {},
   "outputs": [],
   "source": [
    "# NCI1\n",
    "experiment = experiments.patternExperiment(\n",
    "    dataset = None, folder_name = 'pattern_graphs/NCI1', \n",
    "    encoder_name = 'ghc_aug', n_trees=7, n_cycles=7, n_cliques=6,\n",
    "    loading_mode = True)\n",
    "experiment.evaluation(clf_name='Random_forest', cv_num = 10, scoring='accuracy')"
   ]
  },
  {
   "cell_type": "code",
   "execution_count": 102,
   "metadata": {},
   "outputs": [],
   "source": [
    "# evaluation\n",
    "experiment = experiments.patternExperiment(\n",
    "    dataset = None, folder_name = 'pattern_graphs/NCI1', \n",
    "    encoder_name = 'ghc_aug', n_trees=7, n_cycles=7, n_cliques=6,\n",
    "    loading_mode = True)\n",
    "scores_dict = experiment.load_score_data('Random_forest')\n",
    "mean_list = np.array([(i,scores.mean(), scores.std()) for i,scores in scores_dict.items()])"
   ]
  },
  {
   "cell_type": "code",
   "execution_count": 105,
   "metadata": {},
   "outputs": [],
   "source": [
    "datadict = experiment.load_data(get_value=True)"
   ]
  },
  {
   "cell_type": "code",
   "execution_count": 111,
   "metadata": {},
   "outputs": [],
   "source": [
    "mean_dict = {i:(scores.mean(), scores.std()) for i,scores in scores_dict.items()}"
   ]
  },
  {
   "cell_type": "code",
   "execution_count": 125,
   "metadata": {},
   "outputs": [
    {
     "data": {
      "text/plain": [
       "({'n_trees': 6, 'n_cycles': 4, 'n_cliques': 5},\n",
       " 0.7418491484184916,\n",
       " 0.03180654549607573)"
      ]
     },
     "execution_count": 125,
     "metadata": {},
     "output_type": "execute_result"
    }
   ],
   "source": [
    "j = 29\n",
    "datadict[j].nums, scores_dict[j].mean(),  scores_dict[j].std()"
   ]
  },
  {
   "cell_type": "code",
   "execution_count": 74,
   "metadata": {},
   "outputs": [],
   "source": [
    "experiment = experiments.patternExperiment(\n",
    "    dataset = None, folder_name = 'pattern_graphs/NCI1', \n",
    "    encoder_name = 'lagrangian_aug', n_trees=7, n_cycles=7, n_cliques=6,\n",
    "    loading_mode = True)\n",
    "experiment.evaluation(clf_name='Random_forest', cv_num = 10, scoring='accuracy')"
   ]
  },
  {
   "cell_type": "code",
   "execution_count": 82,
   "metadata": {},
   "outputs": [
    {
     "data": {
      "text/plain": [
       "0.7525547445255475"
      ]
     },
     "execution_count": 82,
     "metadata": {},
     "output_type": "execute_result"
    }
   ],
   "source": [
    "# evaluation\n",
    "experiment = experiments.patternExperiment(\n",
    "    dataset = None, folder_name = 'pattern_graphs/NCI1', \n",
    "    encoder_name = 'lagrangian_aug', n_trees=7, n_cycles=7, n_cliques=6,\n",
    "    loading_mode = True)\n",
    "scores_dict = experiment.load_score_data('Random_forest')\n",
    "mean_list = np.array([(i,scores.mean(), scores.std()) for i,scores in scores_dict.items()])\n",
    "np.max(mean_list[:,1])"
   ]
  },
  {
   "cell_type": "markdown",
   "metadata": {},
   "source": [
    "### PROTEINS\n"
   ]
  },
  {
   "cell_type": "code",
   "execution_count": 84,
   "metadata": {},
   "outputs": [],
   "source": [
    "### PROTEINS\n"
   ]
  },
  {
   "cell_type": "code",
   "execution_count": 85,
   "metadata": {},
   "outputs": [],
   "source": [
    "experiment = experiments.patternExperiment(\n",
    "    dataset = None, folder_name = 'pattern_graphs/PROTEINS', \n",
    "    encoder_name = 'ghc_aug', n_trees=7, n_cycles=7, n_cliques=6)\n",
    "experiment.evaluation(clf_name='Random_forest', cv_num = 10, scoring='accuracy')"
   ]
  },
  {
   "cell_type": "code",
   "execution_count": 243,
   "metadata": {},
   "outputs": [
    {
     "data": {
      "image/png": "[encoded data removed]",
      "text/plain": [
       "<Figure size 432x288 with 1 Axes>"
      ]
     },
     "metadata": {
      "needs_background": "light"
     },
     "output_type": "display_data"
    }
   ],
   "source": [
    "experiment = experiments.patternExperiment(\n",
    "    dataset = None, folder_name = 'pattern_graphs/PROTEINS', \n",
    "              encoder_name = 'ghc_aug', n_trees=7, n_cycles=7, n_cliques=6,\n",
    "    loading_mode = True, dataset_name = 'PROTEINS')\n",
    "#make_tree_plot(experiment)\n",
    "make_cycle_plot(experiment)\n",
    "#make_clique_plot(experiment)"
   ]
  },
  {
   "cell_type": "code",
   "execution_count": null,
   "metadata": {},
   "outputs": [],
   "source": [
    "# evaluation\n",
    "datadict = {}\n",
    "for i in range(32):\n",
    "    X = np.load('pattern_graphs/PROTEINS' + '/' +\n",
    "                        'lagrangian_aug'+'/' + f'{i}_X.npy')\n",
    "    y = np.load('pattern_graphs/PROTEINS''/' +\n",
    "                        'lagrangian_aug'+'/' + f'{i}_y.npy')\n",
    "    nums = np.load('pattern_graphs/PROTEINS' + '/'+'lagrangian_aug' +\n",
    "                           '/' + f'{i}_nums.npy', allow_pickle=True).item()\n",
    "    result = experiments.EncodingData(X, y, nums)\n",
    "    datadict[i] = result\n",
    "\n",
    "datadict"
   ]
  },
  {
   "cell_type": "code",
   "execution_count": null,
   "metadata": {},
   "outputs": [],
   "source": [
    "def get_score(x): return x.calculate_cv_scores(\n",
    "                clf_name = 'Random_forest', cv_num = 10)\n",
    "\n",
    "scoredict = {}\n",
    "for i, data in datadict.items():\n",
    "    score_data = get_score(data)\n",
    "    scoredict[i] = score_data"
   ]
  },
  {
   "cell_type": "code",
   "execution_count": 126,
   "metadata": {},
   "outputs": [],
   "source": [
    "for i, data in scoredict.items():\n",
    "    np.save('pattern_graphs/PROTEINS' + '/'+'lagrangian_aug' + \n",
    "            '/' + f'{i}_{data.clf_name}_scores.npy', data.scores)"
   ]
  }
 ],
 "metadata": {
  "interpreter": {
   "hash": "aee8b7b246df8f9039afb4144a1f6fd8d2ca17a180786b69acc140d282b71a49"
  },
  "kernelspec": {
   "display_name": "Python 3.10.4 64-bit",
   "language": "python",
   "name": "python3"
  },
  "language_info": {
   "codemirror_mode": {
    "name": "ipython",
    "version": 3
   },
   "file_extension": ".py",
   "mimetype": "text/x-python",
   "name": "python",
   "nbconvert_exporter": "python",
   "pygments_lexer": "ipython3",
   "version": "3.10.4"
  },
  "orig_nbformat": 4
 },
 "nbformat": 4,
 "nbformat_minor": 2
}
